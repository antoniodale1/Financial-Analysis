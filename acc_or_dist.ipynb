{
 "cells": [
  {
   "cell_type": "markdown",
   "metadata": {},
   "source": [
    "<h1> Accumulation or distribution?"
   ]
  },
  {
   "cell_type": "code",
   "execution_count": 201,
   "metadata": {},
   "outputs": [],
   "source": [
    "# Setting\n",
    "import pandas as pd \n",
    "import numpy as np\n",
    "import yfinance as yf"
   ]
  },
  {
   "cell_type": "code",
   "execution_count": 202,
   "metadata": {},
   "outputs": [
    {
     "name": "stdout",
     "output_type": "stream",
     "text": [
      "[*********************100%%**********************]  1 of 1 completed\n",
      "[*********************100%%**********************]  1 of 1 completed\n"
     ]
    }
   ],
   "source": [
    "# Let's use vanguard FTSE all world\n",
    "acc = yf.download(\"VWCE.MI\").reset_index()\n",
    "div = yf.download(\"VWRL.MI\").reset_index()"
   ]
  },
  {
   "cell_type": "code",
   "execution_count": 203,
   "metadata": {},
   "outputs": [
    {
     "name": "stdout",
     "output_type": "stream",
     "text": [
      "True\n"
     ]
    },
    {
     "data": {
      "text/html": [
       "<div>\n",
       "<style scoped>\n",
       "    .dataframe tbody tr th:only-of-type {\n",
       "        vertical-align: middle;\n",
       "    }\n",
       "\n",
       "    .dataframe tbody tr th {\n",
       "        vertical-align: top;\n",
       "    }\n",
       "\n",
       "    .dataframe thead th {\n",
       "        text-align: right;\n",
       "    }\n",
       "</style>\n",
       "<table border=\"1\" class=\"dataframe\">\n",
       "  <thead>\n",
       "    <tr style=\"text-align: right;\">\n",
       "      <th></th>\n",
       "      <th>index</th>\n",
       "      <th>Date</th>\n",
       "      <th>Open</th>\n",
       "      <th>High</th>\n",
       "      <th>Low</th>\n",
       "      <th>Close</th>\n",
       "      <th>Adj Close</th>\n",
       "      <th>Volume</th>\n",
       "    </tr>\n",
       "  </thead>\n",
       "  <tbody>\n",
       "    <tr>\n",
       "      <th>0</th>\n",
       "      <td>248</td>\n",
       "      <td>2020-01-14</td>\n",
       "      <td>84.839996</td>\n",
       "      <td>85.300003</td>\n",
       "      <td>84.839996</td>\n",
       "      <td>85.110001</td>\n",
       "      <td>77.985954</td>\n",
       "      <td>3326</td>\n",
       "    </tr>\n",
       "    <tr>\n",
       "      <th>1</th>\n",
       "      <td>249</td>\n",
       "      <td>2020-01-15</td>\n",
       "      <td>85.050003</td>\n",
       "      <td>85.129997</td>\n",
       "      <td>84.629997</td>\n",
       "      <td>84.959999</td>\n",
       "      <td>77.848511</td>\n",
       "      <td>4097</td>\n",
       "    </tr>\n",
       "    <tr>\n",
       "      <th>2</th>\n",
       "      <td>250</td>\n",
       "      <td>2020-01-16</td>\n",
       "      <td>85.190002</td>\n",
       "      <td>85.379997</td>\n",
       "      <td>84.970001</td>\n",
       "      <td>85.349998</td>\n",
       "      <td>78.205856</td>\n",
       "      <td>2568</td>\n",
       "    </tr>\n",
       "    <tr>\n",
       "      <th>3</th>\n",
       "      <td>251</td>\n",
       "      <td>2020-01-17</td>\n",
       "      <td>85.800003</td>\n",
       "      <td>86.169998</td>\n",
       "      <td>85.660004</td>\n",
       "      <td>86.010002</td>\n",
       "      <td>78.810616</td>\n",
       "      <td>4326</td>\n",
       "    </tr>\n",
       "    <tr>\n",
       "      <th>4</th>\n",
       "      <td>252</td>\n",
       "      <td>2020-01-20</td>\n",
       "      <td>86.080002</td>\n",
       "      <td>86.180000</td>\n",
       "      <td>86.000000</td>\n",
       "      <td>86.099998</td>\n",
       "      <td>78.893074</td>\n",
       "      <td>2502</td>\n",
       "    </tr>\n",
       "    <tr>\n",
       "      <th>...</th>\n",
       "      <td>...</td>\n",
       "      <td>...</td>\n",
       "      <td>...</td>\n",
       "      <td>...</td>\n",
       "      <td>...</td>\n",
       "      <td>...</td>\n",
       "      <td>...</td>\n",
       "      <td>...</td>\n",
       "    </tr>\n",
       "    <tr>\n",
       "      <th>1258</th>\n",
       "      <td>1506</td>\n",
       "      <td>2024-12-16</td>\n",
       "      <td>134.470001</td>\n",
       "      <td>134.960007</td>\n",
       "      <td>133.539993</td>\n",
       "      <td>134.789993</td>\n",
       "      <td>134.789993</td>\n",
       "      <td>11598</td>\n",
       "    </tr>\n",
       "    <tr>\n",
       "      <th>1259</th>\n",
       "      <td>1507</td>\n",
       "      <td>2024-12-17</td>\n",
       "      <td>134.330002</td>\n",
       "      <td>134.600006</td>\n",
       "      <td>134.059998</td>\n",
       "      <td>134.279999</td>\n",
       "      <td>134.279999</td>\n",
       "      <td>12780</td>\n",
       "    </tr>\n",
       "    <tr>\n",
       "      <th>1260</th>\n",
       "      <td>1508</td>\n",
       "      <td>2024-12-18</td>\n",
       "      <td>134.529999</td>\n",
       "      <td>134.860001</td>\n",
       "      <td>134.229996</td>\n",
       "      <td>134.660004</td>\n",
       "      <td>134.660004</td>\n",
       "      <td>7031</td>\n",
       "    </tr>\n",
       "    <tr>\n",
       "      <th>1261</th>\n",
       "      <td>1509</td>\n",
       "      <td>2024-12-19</td>\n",
       "      <td>132.509995</td>\n",
       "      <td>132.949997</td>\n",
       "      <td>132.080002</td>\n",
       "      <td>132.740005</td>\n",
       "      <td>132.740005</td>\n",
       "      <td>17893</td>\n",
       "    </tr>\n",
       "    <tr>\n",
       "      <th>1262</th>\n",
       "      <td>1510</td>\n",
       "      <td>2024-12-20</td>\n",
       "      <td>131.500000</td>\n",
       "      <td>132.779999</td>\n",
       "      <td>130.270004</td>\n",
       "      <td>132.779999</td>\n",
       "      <td>132.779999</td>\n",
       "      <td>22290</td>\n",
       "    </tr>\n",
       "  </tbody>\n",
       "</table>\n",
       "<p>1263 rows × 8 columns</p>\n",
       "</div>"
      ],
      "text/plain": [
       "      index       Date        Open        High         Low       Close  \\\n",
       "0       248 2020-01-14   84.839996   85.300003   84.839996   85.110001   \n",
       "1       249 2020-01-15   85.050003   85.129997   84.629997   84.959999   \n",
       "2       250 2020-01-16   85.190002   85.379997   84.970001   85.349998   \n",
       "3       251 2020-01-17   85.800003   86.169998   85.660004   86.010002   \n",
       "4       252 2020-01-20   86.080002   86.180000   86.000000   86.099998   \n",
       "...     ...        ...         ...         ...         ...         ...   \n",
       "1258   1506 2024-12-16  134.470001  134.960007  133.539993  134.789993   \n",
       "1259   1507 2024-12-17  134.330002  134.600006  134.059998  134.279999   \n",
       "1260   1508 2024-12-18  134.529999  134.860001  134.229996  134.660004   \n",
       "1261   1509 2024-12-19  132.509995  132.949997  132.080002  132.740005   \n",
       "1262   1510 2024-12-20  131.500000  132.779999  130.270004  132.779999   \n",
       "\n",
       "       Adj Close  Volume  \n",
       "0      77.985954    3326  \n",
       "1      77.848511    4097  \n",
       "2      78.205856    2568  \n",
       "3      78.810616    4326  \n",
       "4      78.893074    2502  \n",
       "...          ...     ...  \n",
       "1258  134.789993   11598  \n",
       "1259  134.279999   12780  \n",
       "1260  134.660004    7031  \n",
       "1261  132.740005   17893  \n",
       "1262  132.779999   22290  \n",
       "\n",
       "[1263 rows x 8 columns]"
      ]
     },
     "execution_count": 203,
     "metadata": {},
     "output_type": "execute_result"
    }
   ],
   "source": [
    "div_filter = div.loc[div[\"Date\"] >= \"2020-01-14\"].reset_index()\n",
    "\n",
    "if len(acc) == len(div_filter):\n",
    "    print(True)\n",
    "\n",
    "div_filter    "
   ]
  },
  {
   "cell_type": "code",
   "execution_count": 204,
   "metadata": {},
   "outputs": [
    {
     "name": "stderr",
     "output_type": "stream",
     "text": [
      "C:\\Users\\39340\\AppData\\Local\\Temp\\ipykernel_31920\\2979395310.py:10: SettingWithCopyWarning: \n",
      "A value is trying to be set on a copy of a slice from a DataFrame.\n",
      "Try using .loc[row_indexer,col_indexer] = value instead\n",
      "\n",
      "See the caveats in the documentation: https://pandas.pydata.org/pandas-docs/stable/user_guide/indexing.html#returning-a-view-versus-a-copy\n",
      "  div_dividend_filter[\"Date\"] = [i.date() for i in div_dividend_filter[\"Date\"]]\n"
     ]
    },
    {
     "data": {
      "text/html": [
       "<div>\n",
       "<style scoped>\n",
       "    .dataframe tbody tr th:only-of-type {\n",
       "        vertical-align: middle;\n",
       "    }\n",
       "\n",
       "    .dataframe tbody tr th {\n",
       "        vertical-align: top;\n",
       "    }\n",
       "\n",
       "    .dataframe thead th {\n",
       "        text-align: right;\n",
       "    }\n",
       "</style>\n",
       "<table border=\"1\" class=\"dataframe\">\n",
       "  <thead>\n",
       "    <tr style=\"text-align: right;\">\n",
       "      <th></th>\n",
       "      <th>Date</th>\n",
       "      <th>Dividends</th>\n",
       "    </tr>\n",
       "  </thead>\n",
       "  <tbody>\n",
       "    <tr>\n",
       "      <th>4</th>\n",
       "      <td>2020-03-26</td>\n",
       "      <td>0.370377</td>\n",
       "    </tr>\n",
       "    <tr>\n",
       "      <th>5</th>\n",
       "      <td>2020-06-11</td>\n",
       "      <td>0.334940</td>\n",
       "    </tr>\n",
       "    <tr>\n",
       "      <th>6</th>\n",
       "      <td>2020-09-24</td>\n",
       "      <td>0.390557</td>\n",
       "    </tr>\n",
       "    <tr>\n",
       "      <th>7</th>\n",
       "      <td>2020-12-17</td>\n",
       "      <td>0.255469</td>\n",
       "    </tr>\n",
       "    <tr>\n",
       "      <th>8</th>\n",
       "      <td>2021-03-18</td>\n",
       "      <td>0.283446</td>\n",
       "    </tr>\n",
       "    <tr>\n",
       "      <th>9</th>\n",
       "      <td>2021-06-17</td>\n",
       "      <td>0.486702</td>\n",
       "    </tr>\n",
       "    <tr>\n",
       "      <th>10</th>\n",
       "      <td>2021-09-16</td>\n",
       "      <td>0.384213</td>\n",
       "    </tr>\n",
       "    <tr>\n",
       "      <th>11</th>\n",
       "      <td>2021-12-16</td>\n",
       "      <td>0.408795</td>\n",
       "    </tr>\n",
       "    <tr>\n",
       "      <th>12</th>\n",
       "      <td>2022-03-17</td>\n",
       "      <td>0.294676</td>\n",
       "    </tr>\n",
       "    <tr>\n",
       "      <th>13</th>\n",
       "      <td>2022-06-16</td>\n",
       "      <td>0.798834</td>\n",
       "    </tr>\n",
       "    <tr>\n",
       "      <th>14</th>\n",
       "      <td>2022-09-15</td>\n",
       "      <td>0.495830</td>\n",
       "    </tr>\n",
       "    <tr>\n",
       "      <th>15</th>\n",
       "      <td>2022-12-15</td>\n",
       "      <td>0.355379</td>\n",
       "    </tr>\n",
       "    <tr>\n",
       "      <th>16</th>\n",
       "      <td>2023-03-16</td>\n",
       "      <td>0.385265</td>\n",
       "    </tr>\n",
       "    <tr>\n",
       "      <th>17</th>\n",
       "      <td>2023-06-15</td>\n",
       "      <td>0.666518</td>\n",
       "    </tr>\n",
       "    <tr>\n",
       "      <th>18</th>\n",
       "      <td>2023-09-14</td>\n",
       "      <td>0.444150</td>\n",
       "    </tr>\n",
       "    <tr>\n",
       "      <th>19</th>\n",
       "      <td>2023-12-14</td>\n",
       "      <td>0.371817</td>\n",
       "    </tr>\n",
       "    <tr>\n",
       "      <th>20</th>\n",
       "      <td>2024-03-15</td>\n",
       "      <td>0.353470</td>\n",
       "    </tr>\n",
       "    <tr>\n",
       "      <th>21</th>\n",
       "      <td>2024-06-13</td>\n",
       "      <td>0.732356</td>\n",
       "    </tr>\n",
       "    <tr>\n",
       "      <th>22</th>\n",
       "      <td>2024-09-12</td>\n",
       "      <td>0.439345</td>\n",
       "    </tr>\n",
       "    <tr>\n",
       "      <th>23</th>\n",
       "      <td>2024-12-12</td>\n",
       "      <td>0.426409</td>\n",
       "    </tr>\n",
       "  </tbody>\n",
       "</table>\n",
       "</div>"
      ],
      "text/plain": [
       "          Date  Dividends\n",
       "4   2020-03-26   0.370377\n",
       "5   2020-06-11   0.334940\n",
       "6   2020-09-24   0.390557\n",
       "7   2020-12-17   0.255469\n",
       "8   2021-03-18   0.283446\n",
       "9   2021-06-17   0.486702\n",
       "10  2021-09-16   0.384213\n",
       "11  2021-12-16   0.408795\n",
       "12  2022-03-17   0.294676\n",
       "13  2022-06-16   0.798834\n",
       "14  2022-09-15   0.495830\n",
       "15  2022-12-15   0.355379\n",
       "16  2023-03-16   0.385265\n",
       "17  2023-06-15   0.666518\n",
       "18  2023-09-14   0.444150\n",
       "19  2023-12-14   0.371817\n",
       "20  2024-03-15   0.353470\n",
       "21  2024-06-13   0.732356\n",
       "22  2024-09-12   0.439345\n",
       "23  2024-12-12   0.426409"
      ]
     },
     "execution_count": 204,
     "metadata": {},
     "output_type": "execute_result"
    }
   ],
   "source": [
    "# Get info about the amount of dividend paid\n",
    "div_object = yf.Ticker(\"VWRL.MI\")\n",
    "\n",
    "div_dividend = div_object.get_dividends().reset_index()\n",
    "\n",
    "oggi = \"2024-12-22\"\n",
    "\n",
    "div_dividend_filter = div_dividend.loc[(div_dividend[\"Date\"] >= \"2020-01-14\") & (div_dividend[\"Date\"] <= oggi)]\n",
    "\n",
    "div_dividend_filter[\"Date\"] = [i.date() for i in div_dividend_filter[\"Date\"]]\n",
    "\n",
    "div_dividend_filter"
   ]
  },
  {
   "cell_type": "code",
   "execution_count": 205,
   "metadata": {},
   "outputs": [
    {
     "data": {
      "text/html": [
       "<div>\n",
       "<style scoped>\n",
       "    .dataframe tbody tr th:only-of-type {\n",
       "        vertical-align: middle;\n",
       "    }\n",
       "\n",
       "    .dataframe tbody tr th {\n",
       "        vertical-align: top;\n",
       "    }\n",
       "\n",
       "    .dataframe thead th {\n",
       "        text-align: right;\n",
       "    }\n",
       "</style>\n",
       "<table border=\"1\" class=\"dataframe\">\n",
       "  <thead>\n",
       "    <tr style=\"text-align: right;\">\n",
       "      <th></th>\n",
       "      <th>Date</th>\n",
       "      <th>Acc Price</th>\n",
       "      <th>Dist Price</th>\n",
       "      <th>Dividends</th>\n",
       "    </tr>\n",
       "  </thead>\n",
       "  <tbody>\n",
       "    <tr>\n",
       "      <th>0</th>\n",
       "      <td>2020-01-14</td>\n",
       "      <td>78.620003</td>\n",
       "      <td>77.985954</td>\n",
       "      <td>NaN</td>\n",
       "    </tr>\n",
       "    <tr>\n",
       "      <th>1</th>\n",
       "      <td>2020-01-15</td>\n",
       "      <td>78.570000</td>\n",
       "      <td>77.848511</td>\n",
       "      <td>NaN</td>\n",
       "    </tr>\n",
       "    <tr>\n",
       "      <th>2</th>\n",
       "      <td>2020-01-16</td>\n",
       "      <td>78.870003</td>\n",
       "      <td>78.205856</td>\n",
       "      <td>NaN</td>\n",
       "    </tr>\n",
       "    <tr>\n",
       "      <th>3</th>\n",
       "      <td>2020-01-17</td>\n",
       "      <td>79.540001</td>\n",
       "      <td>78.810616</td>\n",
       "      <td>NaN</td>\n",
       "    </tr>\n",
       "    <tr>\n",
       "      <th>4</th>\n",
       "      <td>2020-01-20</td>\n",
       "      <td>79.529999</td>\n",
       "      <td>78.893074</td>\n",
       "      <td>NaN</td>\n",
       "    </tr>\n",
       "    <tr>\n",
       "      <th>...</th>\n",
       "      <td>...</td>\n",
       "      <td>...</td>\n",
       "      <td>...</td>\n",
       "      <td>...</td>\n",
       "    </tr>\n",
       "    <tr>\n",
       "      <th>1258</th>\n",
       "      <td>2024-12-16</td>\n",
       "      <td>135.929993</td>\n",
       "      <td>134.789993</td>\n",
       "      <td>NaN</td>\n",
       "    </tr>\n",
       "    <tr>\n",
       "      <th>1259</th>\n",
       "      <td>2024-12-17</td>\n",
       "      <td>135.429993</td>\n",
       "      <td>134.279999</td>\n",
       "      <td>NaN</td>\n",
       "    </tr>\n",
       "    <tr>\n",
       "      <th>1260</th>\n",
       "      <td>2024-12-18</td>\n",
       "      <td>135.800003</td>\n",
       "      <td>134.660004</td>\n",
       "      <td>NaN</td>\n",
       "    </tr>\n",
       "    <tr>\n",
       "      <th>1261</th>\n",
       "      <td>2024-12-19</td>\n",
       "      <td>133.820007</td>\n",
       "      <td>132.740005</td>\n",
       "      <td>NaN</td>\n",
       "    </tr>\n",
       "    <tr>\n",
       "      <th>1262</th>\n",
       "      <td>2024-12-20</td>\n",
       "      <td>133.960007</td>\n",
       "      <td>132.779999</td>\n",
       "      <td>NaN</td>\n",
       "    </tr>\n",
       "  </tbody>\n",
       "</table>\n",
       "<p>1263 rows × 4 columns</p>\n",
       "</div>"
      ],
      "text/plain": [
       "            Date   Acc Price  Dist Price  Dividends\n",
       "0     2020-01-14   78.620003   77.985954        NaN\n",
       "1     2020-01-15   78.570000   77.848511        NaN\n",
       "2     2020-01-16   78.870003   78.205856        NaN\n",
       "3     2020-01-17   79.540001   78.810616        NaN\n",
       "4     2020-01-20   79.529999   78.893074        NaN\n",
       "...          ...         ...         ...        ...\n",
       "1258  2024-12-16  135.929993  134.789993        NaN\n",
       "1259  2024-12-17  135.429993  134.279999        NaN\n",
       "1260  2024-12-18  135.800003  134.660004        NaN\n",
       "1261  2024-12-19  133.820007  132.740005        NaN\n",
       "1262  2024-12-20  133.960007  132.779999        NaN\n",
       "\n",
       "[1263 rows x 4 columns]"
      ]
     },
     "execution_count": 205,
     "metadata": {},
     "output_type": "execute_result"
    }
   ],
   "source": [
    "data_etf = pd.DataFrame(data = {\"Date\": acc[\"Date\"],\n",
    "                                \"Acc Price\": acc[\"Adj Close\"],\n",
    "                                \"Dist Price\": div_filter[\"Adj Close\"]})\n",
    "\n",
    "data_etf[\"Date\"] = [i.date() for i in data_etf[\"Date\"]]\n",
    "\n",
    "data_etf = data_etf.merge(div_dividend_filter, on = \"Date\", how = \"left\")\n",
    "\n",
    "data_etf"
   ]
  },
  {
   "cell_type": "code",
   "execution_count": 206,
   "metadata": {},
   "outputs": [
    {
     "data": {
      "image/png": "[encoded data removed]",
      "text/plain": [
       "<Figure size 640x480 with 1 Axes>"
      ]
     },
     "metadata": {},
     "output_type": "display_data"
    },
    {
     "data": {
      "image/png": "[encoded data removed]",
      "text/plain": [
       "<Figure size 640x480 with 1 Axes>"
      ]
     },
     "metadata": {},
     "output_type": "display_data"
    }
   ],
   "source": [
    "# Visualize\n",
    "grafico = [\"Acc Price\", \"Dist Price\"]\n",
    "\n",
    "for k in grafico:\n",
    "    data_etf.plot(x = \"Date\", y = k, title = k, legend = False)"
   ]
  },
  {
   "cell_type": "code",
   "execution_count": 207,
   "metadata": {},
   "outputs": [
    {
     "data": {
      "text/plain": [
       "[<matplotlib.lines.Line2D at 0x23f1d1b5e50>]"
      ]
     },
     "execution_count": 207,
     "metadata": {},
     "output_type": "execute_result"
    },
    {
     "data": {
      "image/png": "[encoded data removed]",
      "text/plain": [
       "<Figure size 640x480 with 1 Axes>"
      ]
     },
     "metadata": {},
     "output_type": "display_data"
    }
   ],
   "source": [
    "import matplotlib.pyplot as plt\n",
    "\n",
    "plt.plot(data_etf[\"Date\"], data_etf[\"Acc Price\"])\n",
    "plt.plot(data_etf[\"Date\"], data_etf[\"Dist Price\"])"
   ]
  },
  {
   "cell_type": "code",
   "execution_count": 208,
   "metadata": {},
   "outputs": [
    {
     "name": "stdout",
     "output_type": "stream",
     "text": [
      "During that period of time I get 8.678548 split into 20 dividends.\n"
     ]
    }
   ],
   "source": [
    "# How much I get from dividend in the same period of time?\n",
    "number_div = data_etf[\"Dividends\"].count() # 20 dividend paid during that period of time\n",
    "\n",
    "total_amount = data_etf[\"Dividends\"].sum(skipna=True)\n",
    "\n",
    "print(f\"During that period of time I get {total_amount} split into {number_div} dividends.\")"
   ]
  },
  {
   "cell_type": "code",
   "execution_count": 209,
   "metadata": {},
   "outputs": [
    {
     "name": "stdout",
     "output_type": "stream",
     "text": [
      "Rendimenti annuali: accumulation 11.398; distribution 11.382. Differenza pari a 0.017\n"
     ]
    }
   ],
   "source": [
    "# Yield Accumulation vs Distribution\n",
    "diff_days = (data_etf[\"Date\"][len(data_etf)-1] - data_etf[\"Date\"][0]).days\n",
    "\n",
    "rend_acc = (data_etf[\"Acc Price\"][len(data_etf)-1]/data_etf[\"Acc Price\"][0])**(1/(diff_days/365))-1\n",
    "rend_dist = (data_etf[\"Dist Price\"][len(data_etf)-1]/data_etf[\"Dist Price\"][0])**(1/(diff_days/365))-1\n",
    "diff_rendimento = rend_acc - rend_dist\n",
    "\n",
    "print(f\"Rendimenti annuali: accumulation {round(rend_acc, 5)*100}; distribution {round(rend_dist, 5)*100}. Differenza pari a {round(diff_rendimento, 5)*100}\")"
   ]
  },
  {
   "cell_type": "code",
   "execution_count": 210,
   "metadata": {},
   "outputs": [
    {
     "data": {
      "text/plain": [
       "0.022540770478986404"
      ]
     },
     "execution_count": 210,
     "metadata": {},
     "output_type": "execute_result"
    }
   ],
   "source": [
    "# Rendiemtno dividendi\n",
    "dividend_return = (total_amount/data_etf[\"Dist Price\"][0])/(diff_days/365)\n",
    "\n",
    "dividend_return"
   ]
  },
  {
   "cell_type": "code",
   "execution_count": 211,
   "metadata": {},
   "outputs": [
    {
     "data": {
      "text/plain": [
       "1022.5407704789864"
      ]
     },
     "execution_count": 211,
     "metadata": {},
     "output_type": "execute_result"
    }
   ],
   "source": [
    "# Rendimento \n",
    "capitale = 1000\n",
    "\n",
    "inv_accumulo = capitale * (1 + rend_acc)**(diff_days/365)\n",
    "inv_distribution = capitale * (1 + rend_dist)**(diff_days/365)\n",
    "inv_distribution_dividend = capitale * (1 + dividend_return)\n",
    "\n",
    "differenza_assoluta = inv_accumulo - inv_distribution\n",
    "\n",
    "lordo_gain = total_amount - differenza_assoluta\n",
    "\n",
    "rendimento_addizionale = lordo_gain/capitale\n",
    "\n",
    "inv_distribution_dividend"
   ]
  },
  {
   "cell_type": "code",
   "execution_count": 212,
   "metadata": {},
   "outputs": [
    {
     "data": {
      "text/plain": [
       "520.8802023041313"
      ]
     },
     "execution_count": 212,
     "metadata": {},
     "output_type": "execute_result"
    }
   ],
   "source": [
    "# Simulazione di investimento\n",
    "capitale = 1000\n",
    "tax_rate = 0.26\n",
    "num_quote_acc = capitale / data_etf[\"Acc Price\"][0]\n",
    "\n",
    "etf_accumulo = (num_quote_acc * data_etf[\"Acc Price\"][len(data_etf)-1] - num_quote_acc * data_etf[\"Acc Price\"][0])*(1-tax_rate)\n",
    "etf_accumulo  # 520.8802023041313"
   ]
  },
  {
   "cell_type": "code",
   "execution_count": 213,
   "metadata": {},
   "outputs": [
    {
     "data": {
      "text/plain": [
       "519.9345612674903"
      ]
     },
     "execution_count": 213,
     "metadata": {},
     "output_type": "execute_result"
    }
   ],
   "source": [
    "import math\n",
    "\n",
    "numero_quote_dist = capitale / data_etf[\"Dist Price\"][0]\n",
    "\n",
    "etf_distribution_capital_gain = (numero_quote_dist * data_etf[\"Dist Price\"][len(data_etf)-1] - numero_quote_dist * data_etf[\"Dist Price\"][0])*(1-tax_rate)\n",
    "etf_distribution_capital_gain # 519.9344380076417"
   ]
  },
  {
   "cell_type": "code",
   "execution_count": 229,
   "metadata": {},
   "outputs": [
    {
     "data": {
      "text/plain": [
       "602.2843328245281"
      ]
     },
     "execution_count": 229,
     "metadata": {},
     "output_type": "execute_result"
    }
   ],
   "source": [
    "dividendi_netti = []\n",
    "for i in data_etf[\"Dividends\"]:\n",
    "    if math.isnan(i):\n",
    "        pass\n",
    "    else:\n",
    "        dividendi_netti.append((i * numero_quote_dist)*(1-tax_rate)) \n",
    "\n",
    "etf_distribution = etf_distribution_capital_gain + sum(dividendi_netti)\n",
    "\n",
    "etf_distribution"
   ]
  },
  {
   "cell_type": "code",
   "execution_count": 228,
   "metadata": {},
   "outputs": [
    {
     "data": {
      "text/plain": [
       "605.2532613944418"
      ]
     },
     "execution_count": 228,
     "metadata": {},
     "output_type": "execute_result"
    }
   ],
   "source": [
    "# Strategia di reinvestimento\n",
    "quote = [numero_quote_dist]\n",
    "dividendi_incassati = []\n",
    "\n",
    "d = 0\n",
    "q = 0\n",
    "for i in data_etf[\"Dividends\"]:\n",
    "    if not math.isnan(i):\n",
    "        div_netto = (quote[q]*i)*(1-tax_rate)\n",
    "        dividendi_incassati.append(div_netto)\n",
    "        quote.append(quote[q] + div_netto/data_etf[\"Dist Price\"][d])\n",
    "        q = q + 1\n",
    "    d = d + 1  \n",
    "\n",
    "etf_distribution_reinvestimento = etf_distribution_capital_gain +  sum(dividendi_incassati)\n",
    "\n",
    "etf_distribution_reinvestimento"
   ]
  },
  {
   "cell_type": "code",
   "execution_count": 238,
   "metadata": {},
   "outputs": [
    {
     "name": "stdout",
     "output_type": "stream",
     "text": [
      "Risultato con reinvestimento 605.25; senza reinvestimento 602.28; accumulo 520.88\n",
      "Risultato con reinvestimento vs accumulo 84.37; senza reinvestimento vs accumulo 81.40; reinvestimento vs senza 2.97\n"
     ]
    }
   ],
   "source": [
    "# Risultati \n",
    "# Nessun reinvestimento\n",
    "gain_distribution_no_reinvestimento = etf_distribution - etf_accumulo\n",
    "# Con reinvestimento\n",
    "gain_distribution_reinvestimento = etf_distribution_reinvestimento - etf_accumulo\n",
    "\n",
    "print(f\"Risultato con reinvestimento {etf_distribution_reinvestimento:.2f}; senza reinvestimento {etf_distribution:.2f}; accumulo {etf_accumulo:.2f}\")\n",
    "print(f\"Risultato con reinvestimento vs accumulo {(etf_distribution_reinvestimento - etf_accumulo):.2f}; senza reinvestimento vs accumulo {(etf_distribution - etf_accumulo):.2f}; reinvestimento vs senza {(etf_distribution_reinvestimento-etf_distribution):.2f}\")"
   ]
  },
  {
   "cell_type": "code",
   "execution_count": null,
   "metadata": {},
   "outputs": [
    {
     "data": {
      "text/plain": [
       "(array([144., 119., 500., 224.,  90., 108.,  45.,  16.,  12.,   5.]),\n",
       " array([ -14.99153027,   92.64646914,  200.28446856,  307.92246797,\n",
       "         415.56046739,  523.1984668 ,  630.83646622,  738.47446563,\n",
       "         846.11246505,  953.75046446, 1061.38846388]),\n",
       " <BarContainer object of 10 artists>)"
      ]
     },
     "execution_count": 263,
     "metadata": {},
     "output_type": "execute_result"
    },
    {
     "data": {
      "image/png": "[encoded data removed]",
      "text/plain": [
       "<Figure size 640x480 with 1 Axes>"
      ]
     },
     "metadata": {},
     "output_type": "display_data"
    }
   ],
   "source": [
    "# Simulazione Accumulo\n",
    "capitale = 1000\n",
    "tax_rate = 0.26\n",
    "\n",
    "risultati_accumulo = []\n",
    "\n",
    "for i in range(0, len(data_etf)):\n",
    "    num_quote = capitale / data_etf[\"Acc Price\"][i]\n",
    "    acc_simulation = ((num_quote * data_etf[\"Acc Price\"][len(data_etf)-1]) - (num_quote * data_etf[\"Acc Price\"][i]))*(1-tax_rate)\n",
    "    risultati_accumulo.append(acc_simulation)\n",
    "\n",
    "plt.hist(risultati_accumulo)"
   ]
  },
  {
   "cell_type": "code",
   "execution_count": 314,
   "metadata": {},
   "outputs": [
    {
     "data": {
      "text/plain": [
       "(array([152., 115., 503., 209.,  88., 112.,  51.,  17.,  11.,   5.]),\n",
       " array([ -12.9207844 ,  107.31476303,  227.55031045,  347.78585787,\n",
       "         468.0214053 ,  588.25695272,  708.49250014,  828.72804757,\n",
       "         948.96359499, 1069.19914241, 1189.43468984]),\n",
       " <BarContainer object of 10 artists>)"
      ]
     },
     "execution_count": 314,
     "metadata": {},
     "output_type": "execute_result"
    },
    {
     "data": {
      "image/png": "[encoded data removed]",
      "text/plain": [
       "<Figure size 640x480 with 1 Axes>"
      ]
     },
     "metadata": {},
     "output_type": "display_data"
    }
   ],
   "source": [
    "# Simulazione Distribuzione\n",
    "capitale = 1000\n",
    "tax_rate = 0.26\n",
    "\n",
    "risultati_distribuzione = []\n",
    "\n",
    "for i in range(0, len(data_etf)):\n",
    "    num_quote = capitale / data_etf[\"Dist Price\"][i]\n",
    "    acc_distribuzione = ((num_quote * data_etf[\"Dist Price\"][len(data_etf)-1]) - (num_quote * data_etf[\"Dist Price\"][i]))*(1-tax_rate)\n",
    "    div_distribuzione = []\n",
    "    for k in range(len(data_etf)):\n",
    "        if ((not math.isnan(data_etf[\"Dividends\"][k])) & (data_etf[\"Date\"][k] >= data_etf[\"Date\"][i])):\n",
    "            div_distribuzione.append(data_etf[\"Dividends\"][k]*(1-tax_rate))\n",
    "    dividendi = sum(div_distribuzione) * num_quote\n",
    "    risultati_distribuzione.append(acc_distribuzione + dividendi)\n",
    "\n",
    "plt.hist(risultati_distribuzione)"
   ]
  },
  {
   "cell_type": "code",
   "execution_count": 338,
   "metadata": {},
   "outputs": [
    {
     "name": "stderr",
     "output_type": "stream",
     "text": [
      "C:\\Users\\39340\\AppData\\Local\\Temp\\ipykernel_31920\\2947665914.py:8: RuntimeWarning: invalid value encountered in scalar divide\n",
      "  plus_return.append(float(round(differenza[k]/risultati_accumulo[k], 3)*100))\n"
     ]
    },
    {
     "data": {
      "text/plain": [
       "12.5"
      ]
     },
     "execution_count": 338,
     "metadata": {},
     "output_type": "execute_result"
    }
   ],
   "source": [
    "# Differenza\n",
    "differenza = []\n",
    "for i in range(len(risultati_distribuzione)):\n",
    "    differenza.append(risultati_distribuzione[i] - risultati_accumulo[i])\n",
    "\n",
    "plus_return = []\n",
    "for k in range(len(risultati_distribuzione)):\n",
    "    plus_return.append(float(round(differenza[k]/risultati_accumulo[k], 3)*100))\n",
    "\n",
    "plus_return = plus_return[:-1]\n",
    "\n",
    "np.mean(plus_return)\n",
    "np.median(plus_return)"
   ]
  }
 ],
 "metadata": {
  "kernelspec": {
   "display_name": "Python 3",
   "language": "python",
   "name": "python3"
  },
  "language_info": {
   "codemirror_mode": {
    "name": "ipython",
    "version": 3
   },
   "file_extension": ".py",
   "mimetype": "text/x-python",
   "name": "python",
   "nbconvert_exporter": "python",
   "pygments_lexer": "ipython3",
   "version": "3.11.2"
  }
 },
 "nbformat": 4,
 "nbformat_minor": 2
}
